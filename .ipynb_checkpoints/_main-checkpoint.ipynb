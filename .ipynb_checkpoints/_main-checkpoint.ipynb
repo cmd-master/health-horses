{
 "cells": [
  {
   "cell_type": "markdown",
   "metadata": {},
   "source": [
    "# Summary\n",
    "Goal: Given various medical indicators, predict the health outcomes of horses.\n",
    "\n",
    "\n",
    "\n",
    "\n",
    "\n",
    "\n",
    "\n",
    "\n",
    "\n",
    "\n",
    "\n",
    "\n",
    "\n",
    "\n",
    "\n",
    "\n",
    "\n",
    "\n",
    "\n",
    "\n",
    "\n",
    "\n",
    "\n",
    "\n",
    "\n",
    "\n"
   ]
  },
  {
   "cell_type": "markdown",
   "metadata": {},
   "source": [
    "## What I know so far...\n",
    "**Iteration 1.**\n",
    "Blindly adding everything together.\n",
    "Removed Id.\n",
    "Using RandomForest to start.\n",
    "\n",
    "\n",
    "\n",
    "\n",
    "\n",
    "\n",
    "\n",
    "\n",
    "\n",
    "\n",
    "\n",
    "\n",
    "\n",
    "\n",
    "\n",
    "\n",
    "\n",
    "\n",
    "\n",
    "\n",
    "\n",
    "\n",
    "\n",
    "\n",
    "\n",
    "\n",
    "\n",
    "\n",
    "\n"
   ]
  },
  {
   "cell_type": "markdown",
   "metadata": {},
   "source": [
    "## Scoring Versions\n",
    "    Iteration 1. Baseline Model\n",
    "    model_base 1.0 1.0 1.0\n",
    "    model_base 0.7206477732793523 0.7247937820693239 0.7197463527611024\n",
    "    model_tune 0.8876518218623481 0.8913947148261604 0.8878737029137665\n",
    "    model_tune 0.708502024291498 0.7146934707306224 0.7081103777851071\n",
    "    "
   ]
  },
  {
   "cell_type": "code",
   "execution_count": 4,
   "metadata": {
    "execution": {
     "iopub.execute_input": "2023-09-14T00:46:43.759140Z",
     "iopub.status.busy": "2023-09-14T00:46:43.758670Z",
     "iopub.status.idle": "2023-09-14T00:46:43.765236Z",
     "shell.execute_reply": "2023-09-14T00:46:43.763867Z",
     "shell.execute_reply.started": "2023-09-14T00:46:43.759085Z"
    }
   },
   "outputs": [],
   "source": [
    "import pandas as pd\n",
    "import numpy as np\n",
    "import seaborn as sns\n",
    "pd.options.display.max_columns = 200"
   ]
  },
  {
   "cell_type": "code",
   "execution_count": 5,
   "metadata": {
    "execution": {
     "iopub.execute_input": "2023-09-14T00:46:43.767440Z",
     "iopub.status.busy": "2023-09-14T00:46:43.767070Z",
     "iopub.status.idle": "2023-09-14T00:46:43.797922Z",
     "shell.execute_reply": "2023-09-14T00:46:43.796759Z",
     "shell.execute_reply.started": "2023-09-14T00:46:43.767410Z"
    }
   },
   "outputs": [],
   "source": [
    "df = pd.read_csv('input/train.csv')\n",
    "samp = pd.read_csv('input/test.csv')\n",
    "\n",
    "# samp = pd.read_csv('/kaggle/input/playground-series-s3e22/test.csv')\n",
    "# df = pd.read_csv('/kaggle/input/playground-series-s3e22/train.csv')"
   ]
  },
  {
   "cell_type": "code",
   "execution_count": 6,
   "metadata": {
    "execution": {
     "iopub.execute_input": "2023-09-14T00:46:43.800391Z",
     "iopub.status.busy": "2023-09-14T00:46:43.799704Z",
     "iopub.status.idle": "2023-09-14T00:46:43.814073Z",
     "shell.execute_reply": "2023-09-14T00:46:43.812906Z",
     "shell.execute_reply.started": "2023-09-14T00:46:43.800328Z"
    }
   },
   "outputs": [],
   "source": [
    "num = [x for x in df.columns if df.dtypes[x] in ('float', 'int64')]\n",
    "cat = [x for x in df.columns if df.dtypes[x] == 'object']\n",
    "target = 'outcome'\n",
    "cat.remove(target)\n",
    "num.remove('id')"
   ]
  },
  {
   "cell_type": "code",
   "execution_count": 7,
   "metadata": {
    "execution": {
     "iopub.execute_input": "2023-09-14T00:46:43.817144Z",
     "iopub.status.busy": "2023-09-14T00:46:43.816825Z",
     "iopub.status.idle": "2023-09-14T00:46:43.825250Z",
     "shell.execute_reply": "2023-09-14T00:46:43.824391Z",
     "shell.execute_reply.started": "2023-09-14T00:46:43.817116Z"
    }
   },
   "outputs": [],
   "source": [
    "from sklearn.model_selection import train_test_split\n",
    "train, test = train_test_split(df, test_size=.2, random_state=0)"
   ]
  },
  {
   "cell_type": "markdown",
   "metadata": {},
   "source": [
    "# Explore"
   ]
  },
  {
   "cell_type": "code",
   "execution_count": 8,
   "metadata": {
    "execution": {
     "iopub.execute_input": "2023-09-14T00:46:43.827590Z",
     "iopub.status.busy": "2023-09-14T00:46:43.826624Z",
     "iopub.status.idle": "2023-09-14T00:46:43.843937Z",
     "shell.execute_reply": "2023-09-14T00:46:43.842749Z",
     "shell.execute_reply.started": "2023-09-14T00:46:43.827555Z"
    }
   },
   "outputs": [
    {
     "data": {
      "text/plain": [
       "id                       False\n",
       "surgery                  False\n",
       "age                      False\n",
       "hospital_number          False\n",
       "rectal_temp              False\n",
       "pulse                    False\n",
       "respiratory_rate         False\n",
       "temp_of_extremities      False\n",
       "peripheral_pulse         False\n",
       "mucous_membrane          False\n",
       "capillary_refill_time    False\n",
       "pain                     False\n",
       "peristalsis              False\n",
       "abdominal_distention     False\n",
       "nasogastric_tube         False\n",
       "nasogastric_reflux       False\n",
       "nasogastric_reflux_ph    False\n",
       "rectal_exam_feces        False\n",
       "abdomen                  False\n",
       "packed_cell_volume       False\n",
       "total_protein            False\n",
       "abdomo_appearance        False\n",
       "abdomo_protein           False\n",
       "surgical_lesion          False\n",
       "lesion_1                 False\n",
       "lesion_2                 False\n",
       "lesion_3                 False\n",
       "cp_data                  False\n",
       "outcome                  False\n",
       "dtype: bool"
      ]
     },
     "execution_count": 8,
     "metadata": {},
     "output_type": "execute_result"
    }
   ],
   "source": [
    "train.isnull().any()"
   ]
  },
  {
   "cell_type": "code",
   "execution_count": 9,
   "metadata": {
    "execution": {
     "iopub.execute_input": "2023-09-14T00:46:43.846500Z",
     "iopub.status.busy": "2023-09-14T00:46:43.845213Z",
     "iopub.status.idle": "2023-09-14T00:46:43.855736Z",
     "shell.execute_reply": "2023-09-14T00:46:43.854696Z",
     "shell.execute_reply.started": "2023-09-14T00:46:43.846466Z"
    }
   },
   "outputs": [
    {
     "data": {
      "text/plain": [
       "lived         458\n",
       "died          321\n",
       "euthanized    209\n",
       "Name: outcome, dtype: int64"
      ]
     },
     "execution_count": 9,
     "metadata": {},
     "output_type": "execute_result"
    }
   ],
   "source": [
    "train[target].value_counts()"
   ]
  },
  {
   "cell_type": "markdown",
   "metadata": {},
   "source": [
    "# Pipeline"
   ]
  },
  {
   "cell_type": "code",
   "execution_count": 10,
   "metadata": {
    "execution": {
     "iopub.execute_input": "2023-09-14T00:46:43.858171Z",
     "iopub.status.busy": "2023-09-14T00:46:43.857089Z",
     "iopub.status.idle": "2023-09-14T00:46:43.864367Z",
     "shell.execute_reply": "2023-09-14T00:46:43.863085Z",
     "shell.execute_reply.started": "2023-09-14T00:46:43.858131Z"
    }
   },
   "outputs": [],
   "source": [
    "from sklearn.pipeline import Pipeline, FeatureUnion\n",
    "from sklearn.base import BaseEstimator, TransformerMixin\n",
    "from sklearn.preprocessing import OneHotEncoder, StandardScaler, PolynomialFeatures\n",
    "from sklearn.impute import SimpleImputer"
   ]
  },
  {
   "cell_type": "code",
   "execution_count": 11,
   "metadata": {
    "execution": {
     "iopub.execute_input": "2023-09-14T00:46:43.867764Z",
     "iopub.status.busy": "2023-09-14T00:46:43.867415Z",
     "iopub.status.idle": "2023-09-14T00:46:43.874165Z",
     "shell.execute_reply": "2023-09-14T00:46:43.873319Z",
     "shell.execute_reply.started": "2023-09-14T00:46:43.867722Z"
    }
   },
   "outputs": [],
   "source": [
    "class DataSelect(BaseEstimator, TransformerMixin):\n",
    "    def __init__(self, attributes):\n",
    "        self.attributes = attributes\n",
    "    def fit(self, X, y=None):\n",
    "        return self\n",
    "    def transform(self, X, y=None):\n",
    "        return X[self.attributes]"
   ]
  },
  {
   "cell_type": "code",
   "execution_count": 12,
   "metadata": {
    "execution": {
     "iopub.execute_input": "2023-09-14T00:46:43.877507Z",
     "iopub.status.busy": "2023-09-14T00:46:43.876907Z",
     "iopub.status.idle": "2023-09-14T00:46:43.927889Z",
     "shell.execute_reply": "2023-09-14T00:46:43.927017Z",
     "shell.execute_reply.started": "2023-09-14T00:46:43.877477Z"
    }
   },
   "outputs": [],
   "source": [
    "num_pp = Pipeline([\n",
    "    ('dataselect', DataSelect(num))\n",
    "    , ('impute', SimpleImputer(strategy='median'))\n",
    "    , ('scaler', StandardScaler())\n",
    "])\n",
    "\n",
    "cat_pp = Pipeline([\n",
    "    ('dataselect', DataSelect(cat))\n",
    "    , ('encode', OneHotEncoder(sparse_output=False, handle_unknown='ignore'))\n",
    "])\n",
    "\n",
    "pipe = FeatureUnion([\n",
    "    ('numeric', num_pp)\n",
    "    , ('categorical', cat_pp)\n",
    "])\n",
    "\n",
    "pipe.fit(train)\n",
    "train_pre = pipe.transform(train)\n",
    "test_pre = pipe.transform(test)"
   ]
  },
  {
   "cell_type": "markdown",
   "metadata": {},
   "source": [
    "# Base Model"
   ]
  },
  {
   "cell_type": "code",
   "execution_count": 13,
   "metadata": {
    "execution": {
     "iopub.execute_input": "2023-09-14T00:46:43.929655Z",
     "iopub.status.busy": "2023-09-14T00:46:43.929125Z",
     "iopub.status.idle": "2023-09-14T00:46:43.934926Z",
     "shell.execute_reply": "2023-09-14T00:46:43.933931Z",
     "shell.execute_reply.started": "2023-09-14T00:46:43.929624Z"
    }
   },
   "outputs": [],
   "source": [
    "from sklearn.model_selection import cross_val_score\n",
    "from sklearn.linear_model import LogisticRegression\n",
    "from sklearn.svm import LinearSVC\n",
    "from sklearn.tree import DecisionTreeClassifier\n",
    "from sklearn.ensemble import RandomForestClassifier"
   ]
  },
  {
   "cell_type": "code",
   "execution_count": 14,
   "metadata": {
    "execution": {
     "iopub.execute_input": "2023-09-14T00:46:43.971743Z",
     "iopub.status.busy": "2023-09-14T00:46:43.971131Z",
     "iopub.status.idle": "2023-09-14T00:46:44.577701Z",
     "shell.execute_reply": "2023-09-14T00:46:44.576627Z",
     "shell.execute_reply.started": "2023-09-14T00:46:43.971711Z"
    }
   },
   "outputs": [
    {
     "data": {
      "text/plain": [
       "0.6619391888427422"
      ]
     },
     "execution_count": 14,
     "metadata": {},
     "output_type": "execute_result"
    }
   ],
   "source": [
    "lin_cls = LogisticRegression(max_iter=1000)\n",
    "lin_cls.fit(train_pre, train[target])\n",
    "cross_val_score(lin_cls, train_pre, train[target]).mean()"
   ]
  },
  {
   "cell_type": "code",
   "execution_count": 15,
   "metadata": {
    "execution": {
     "iopub.execute_input": "2023-09-14T00:46:44.580448Z",
     "iopub.status.busy": "2023-09-14T00:46:44.580017Z",
     "iopub.status.idle": "2023-09-14T00:46:47.802267Z",
     "shell.execute_reply": "2023-09-14T00:46:47.801181Z",
     "shell.execute_reply.started": "2023-09-14T00:46:44.580408Z"
    }
   },
   "outputs": [
    {
     "data": {
      "text/plain": [
       "0.6507921858175665"
      ]
     },
     "execution_count": 15,
     "metadata": {},
     "output_type": "execute_result"
    }
   ],
   "source": [
    "svc_cls = LinearSVC(dual=True, max_iter=8000)\n",
    "svc_cls.fit(train_pre, train[target])\n",
    "cross_val_score(svc_cls, train_pre, train[target]).mean()"
   ]
  },
  {
   "cell_type": "code",
   "execution_count": 16,
   "metadata": {
    "execution": {
     "iopub.execute_input": "2023-09-14T00:47:30.441639Z",
     "iopub.status.busy": "2023-09-14T00:47:30.440955Z",
     "iopub.status.idle": "2023-09-14T00:47:30.540600Z",
     "shell.execute_reply": "2023-09-14T00:47:30.539504Z",
     "shell.execute_reply.started": "2023-09-14T00:47:30.441598Z"
    }
   },
   "outputs": [
    {
     "data": {
      "text/plain": [
       "0.5677690611700764"
      ]
     },
     "execution_count": 16,
     "metadata": {},
     "output_type": "execute_result"
    }
   ],
   "source": [
    "dec_cls = DecisionTreeClassifier(random_state=0)\n",
    "dec_cls.fit(train_pre, train[target])\n",
    "cross_val_score(dec_cls, train_pre, train[target]).mean()"
   ]
  },
  {
   "cell_type": "code",
   "execution_count": 17,
   "metadata": {
    "execution": {
     "iopub.execute_input": "2023-09-14T00:46:47.901887Z",
     "iopub.status.busy": "2023-09-14T00:46:47.901578Z",
     "iopub.status.idle": "2023-09-14T00:46:49.844291Z",
     "shell.execute_reply": "2023-09-14T00:46:49.843144Z",
     "shell.execute_reply.started": "2023-09-14T00:46:47.901861Z"
    }
   },
   "outputs": [
    {
     "data": {
      "text/plain": [
       "0.6932574475721685"
      ]
     },
     "execution_count": 17,
     "metadata": {},
     "output_type": "execute_result"
    }
   ],
   "source": [
    "ran_cls = RandomForestClassifier(random_state=0)\n",
    "ran_cls.fit(train_pre, train[target])\n",
    "cross_val_score(ran_cls, train_pre, train[target]).mean()"
   ]
  },
  {
   "cell_type": "code",
   "execution_count": 18,
   "metadata": {
    "execution": {
     "iopub.execute_input": "2023-09-14T00:46:49.847501Z",
     "iopub.status.busy": "2023-09-14T00:46:49.847147Z",
     "iopub.status.idle": "2023-09-14T00:46:50.189312Z",
     "shell.execute_reply": "2023-09-14T00:46:50.188503Z",
     "shell.execute_reply.started": "2023-09-14T00:46:49.847471Z"
    }
   },
   "outputs": [
    {
     "data": {
      "text/plain": [
       "{'bootstrap': True,\n",
       " 'ccp_alpha': 0.0,\n",
       " 'class_weight': None,\n",
       " 'criterion': 'gini',\n",
       " 'max_depth': None,\n",
       " 'max_features': 'sqrt',\n",
       " 'max_leaf_nodes': None,\n",
       " 'max_samples': None,\n",
       " 'min_impurity_decrease': 0.0,\n",
       " 'min_samples_leaf': 1,\n",
       " 'min_samples_split': 2,\n",
       " 'min_weight_fraction_leaf': 0.0,\n",
       " 'n_estimators': 100,\n",
       " 'n_jobs': None,\n",
       " 'oob_score': False,\n",
       " 'random_state': 0,\n",
       " 'verbose': 0,\n",
       " 'warm_start': False}"
      ]
     },
     "execution_count": 18,
     "metadata": {},
     "output_type": "execute_result"
    }
   ],
   "source": [
    "model_base = RandomForestClassifier(random_state=0)\n",
    "model_base.fit(train_pre, train[target])\n",
    "model_base.get_params()"
   ]
  },
  {
   "cell_type": "markdown",
   "metadata": {},
   "source": [
    "# Tune Model"
   ]
  },
  {
   "cell_type": "code",
   "execution_count": 19,
   "metadata": {
    "execution": {
     "iopub.execute_input": "2023-09-14T00:46:50.191394Z",
     "iopub.status.busy": "2023-09-14T00:46:50.190564Z",
     "iopub.status.idle": "2023-09-14T00:47:29.764025Z",
     "shell.execute_reply": "2023-09-14T00:47:29.763050Z",
     "shell.execute_reply.started": "2023-09-14T00:46:50.191365Z"
    }
   },
   "outputs": [],
   "source": [
    "# from sklearn.model_selection import GridSearchCV\n",
    "# params = {\n",
    "#     'random_state': [0]\n",
    "#     , 'n_estimators': [100, 300, 600]\n",
    "#     , 'max_depth': [2, 4, 8]\n",
    "# }\n",
    "# grid = GridSearchCV(model_base, param_grid=params)\n",
    "# grid.fit(train_pre, train[target])\n",
    "# grid.best_params_"
   ]
  },
  {
   "cell_type": "code",
   "execution_count": 20,
   "metadata": {
    "execution": {
     "iopub.execute_input": "2023-09-14T00:47:29.765974Z",
     "iopub.status.busy": "2023-09-14T00:47:29.765352Z",
     "iopub.status.idle": "2023-09-14T00:47:29.771110Z",
     "shell.execute_reply": "2023-09-14T00:47:29.770053Z",
     "shell.execute_reply.started": "2023-09-14T00:47:29.765946Z"
    }
   },
   "outputs": [],
   "source": [
    "model_tune = RandomForestClassifier(random_state=0, n_estimators=100, max_depth=8)"
   ]
  },
  {
   "cell_type": "code",
   "execution_count": 21,
   "metadata": {
    "execution": {
     "iopub.execute_input": "2023-09-14T00:47:29.773415Z",
     "iopub.status.busy": "2023-09-14T00:47:29.772738Z",
     "iopub.status.idle": "2023-09-14T00:47:30.078472Z",
     "shell.execute_reply": "2023-09-14T00:47:30.077200Z",
     "shell.execute_reply.started": "2023-09-14T00:47:29.773377Z"
    }
   },
   "outputs": [],
   "source": [
    "model_tune.fit(train_pre, train[target]);"
   ]
  },
  {
   "cell_type": "markdown",
   "metadata": {},
   "source": [
    "# Validation"
   ]
  },
  {
   "cell_type": "code",
   "execution_count": 22,
   "metadata": {
    "execution": {
     "iopub.execute_input": "2023-09-14T00:47:30.080255Z",
     "iopub.status.busy": "2023-09-14T00:47:30.079949Z",
     "iopub.status.idle": "2023-09-14T00:47:30.086439Z",
     "shell.execute_reply": "2023-09-14T00:47:30.085117Z",
     "shell.execute_reply.started": "2023-09-14T00:47:30.080227Z"
    }
   },
   "outputs": [],
   "source": [
    "from sklearn.metrics import accuracy_score, precision_score, f1_score, roc_auc_score"
   ]
  },
  {
   "cell_type": "code",
   "execution_count": 23,
   "metadata": {
    "execution": {
     "iopub.execute_input": "2023-09-14T00:47:30.088408Z",
     "iopub.status.busy": "2023-09-14T00:47:30.088021Z",
     "iopub.status.idle": "2023-09-14T00:47:30.375503Z",
     "shell.execute_reply": "2023-09-14T00:47:30.374310Z",
     "shell.execute_reply.started": "2023-09-14T00:47:30.088379Z"
    }
   },
   "outputs": [
    {
     "name": "stdout",
     "output_type": "stream",
     "text": [
      "model_base 1.0 1.0 1.0\n",
      "model_base 0.7206477732793523 0.7247937820693239 0.7197463527611024\n",
      "model_tune 0.8876518218623481 0.8913947148261604 0.8878737029137665\n",
      "model_tune 0.708502024291498 0.7146934707306224 0.7081103777851071\n"
     ]
    }
   ],
   "source": [
    "print('model_base'\n",
    ", accuracy_score(train[target], model_base.predict(train_pre))\n",
    ", precision_score(train[target], model_base.predict(train_pre), average='weighted')\n",
    ", f1_score(train[target], model_base.predict(train_pre), average='weighted')\n",
    ")\n",
    "\n",
    "print('model_base'\n",
    ", accuracy_score(test[target], model_base.predict(test_pre))\n",
    ", precision_score(test[target], model_base.predict(test_pre), average='weighted')\n",
    ", f1_score(test[target], model_base.predict(test_pre), average='weighted')\n",
    ")\n",
    "\n",
    "print('model_tune'\n",
    ", accuracy_score(train[target], model_tune.predict(train_pre))\n",
    ", precision_score(train[target], model_tune.predict(train_pre), average='weighted')\n",
    ", f1_score(train[target], model_tune.predict(train_pre), average='weighted')\n",
    ")\n",
    "\n",
    "print('model_tune'\n",
    ", accuracy_score(test[target], model_tune.predict(test_pre))\n",
    ", precision_score(test[target], model_tune.predict(test_pre), average='weighted')\n",
    ", f1_score(test[target], model_tune.predict(test_pre), average='weighted')\n",
    ")"
   ]
  },
  {
   "cell_type": "markdown",
   "metadata": {},
   "source": [
    "# Submission"
   ]
  },
  {
   "cell_type": "code",
   "execution_count": 24,
   "metadata": {
    "execution": {
     "iopub.execute_input": "2023-09-14T00:47:30.377776Z",
     "iopub.status.busy": "2023-09-14T00:47:30.377319Z",
     "iopub.status.idle": "2023-09-14T00:47:30.437910Z",
     "shell.execute_reply": "2023-09-14T00:47:30.436762Z",
     "shell.execute_reply.started": "2023-09-14T00:47:30.377724Z"
    }
   },
   "outputs": [
    {
     "ename": "FileNotFoundError",
     "evalue": "[Errno 2] No such file or directory: '/kaggle/input/playground-series-s3e22/test.csv'",
     "output_type": "error",
     "traceback": [
      "\u001b[1;31m---------------------------------------------------------------------------\u001b[0m",
      "\u001b[1;31mFileNotFoundError\u001b[0m                         Traceback (most recent call last)",
      "Cell \u001b[1;32mIn[24], line 1\u001b[0m\n\u001b[1;32m----> 1\u001b[0m samp \u001b[38;5;241m=\u001b[39m pd\u001b[38;5;241m.\u001b[39mread_csv(\u001b[38;5;124m'\u001b[39m\u001b[38;5;124m/kaggle/input/playground-series-s3e22/test.csv\u001b[39m\u001b[38;5;124m'\u001b[39m)\n\u001b[0;32m      2\u001b[0m pd\u001b[38;5;241m.\u001b[39mDataFrame({\n\u001b[0;32m      3\u001b[0m     \u001b[38;5;124m'\u001b[39m\u001b[38;5;124mid\u001b[39m\u001b[38;5;124m'\u001b[39m: samp[\u001b[38;5;124m'\u001b[39m\u001b[38;5;124mid\u001b[39m\u001b[38;5;124m'\u001b[39m]\n\u001b[0;32m      4\u001b[0m     , \u001b[38;5;124m'\u001b[39m\u001b[38;5;124moutcome\u001b[39m\u001b[38;5;124m'\u001b[39m: model_tune\u001b[38;5;241m.\u001b[39mpredict(pipe\u001b[38;5;241m.\u001b[39mtransform(samp))\n\u001b[0;32m      5\u001b[0m })\u001b[38;5;241m.\u001b[39mto_csv(\u001b[38;5;124m'\u001b[39m\u001b[38;5;124msubmission.csv\u001b[39m\u001b[38;5;124m'\u001b[39m, index\u001b[38;5;241m=\u001b[39m\u001b[38;5;28;01mFalse\u001b[39;00m)\n",
      "File \u001b[1;32m~\\anaconda3\\Lib\\site-packages\\pandas\\util\\_decorators.py:211\u001b[0m, in \u001b[0;36mdeprecate_kwarg.<locals>._deprecate_kwarg.<locals>.wrapper\u001b[1;34m(*args, **kwargs)\u001b[0m\n\u001b[0;32m    209\u001b[0m     \u001b[38;5;28;01melse\u001b[39;00m:\n\u001b[0;32m    210\u001b[0m         kwargs[new_arg_name] \u001b[38;5;241m=\u001b[39m new_arg_value\n\u001b[1;32m--> 211\u001b[0m \u001b[38;5;28;01mreturn\u001b[39;00m func(\u001b[38;5;241m*\u001b[39margs, \u001b[38;5;241m*\u001b[39m\u001b[38;5;241m*\u001b[39mkwargs)\n",
      "File \u001b[1;32m~\\anaconda3\\Lib\\site-packages\\pandas\\util\\_decorators.py:331\u001b[0m, in \u001b[0;36mdeprecate_nonkeyword_arguments.<locals>.decorate.<locals>.wrapper\u001b[1;34m(*args, **kwargs)\u001b[0m\n\u001b[0;32m    325\u001b[0m \u001b[38;5;28;01mif\u001b[39;00m \u001b[38;5;28mlen\u001b[39m(args) \u001b[38;5;241m>\u001b[39m num_allow_args:\n\u001b[0;32m    326\u001b[0m     warnings\u001b[38;5;241m.\u001b[39mwarn(\n\u001b[0;32m    327\u001b[0m         msg\u001b[38;5;241m.\u001b[39mformat(arguments\u001b[38;5;241m=\u001b[39m_format_argument_list(allow_args)),\n\u001b[0;32m    328\u001b[0m         \u001b[38;5;167;01mFutureWarning\u001b[39;00m,\n\u001b[0;32m    329\u001b[0m         stacklevel\u001b[38;5;241m=\u001b[39mfind_stack_level(),\n\u001b[0;32m    330\u001b[0m     )\n\u001b[1;32m--> 331\u001b[0m \u001b[38;5;28;01mreturn\u001b[39;00m func(\u001b[38;5;241m*\u001b[39margs, \u001b[38;5;241m*\u001b[39m\u001b[38;5;241m*\u001b[39mkwargs)\n",
      "File \u001b[1;32m~\\anaconda3\\Lib\\site-packages\\pandas\\io\\parsers\\readers.py:950\u001b[0m, in \u001b[0;36mread_csv\u001b[1;34m(filepath_or_buffer, sep, delimiter, header, names, index_col, usecols, squeeze, prefix, mangle_dupe_cols, dtype, engine, converters, true_values, false_values, skipinitialspace, skiprows, skipfooter, nrows, na_values, keep_default_na, na_filter, verbose, skip_blank_lines, parse_dates, infer_datetime_format, keep_date_col, date_parser, dayfirst, cache_dates, iterator, chunksize, compression, thousands, decimal, lineterminator, quotechar, quoting, doublequote, escapechar, comment, encoding, encoding_errors, dialect, error_bad_lines, warn_bad_lines, on_bad_lines, delim_whitespace, low_memory, memory_map, float_precision, storage_options)\u001b[0m\n\u001b[0;32m    935\u001b[0m kwds_defaults \u001b[38;5;241m=\u001b[39m _refine_defaults_read(\n\u001b[0;32m    936\u001b[0m     dialect,\n\u001b[0;32m    937\u001b[0m     delimiter,\n\u001b[1;32m   (...)\u001b[0m\n\u001b[0;32m    946\u001b[0m     defaults\u001b[38;5;241m=\u001b[39m{\u001b[38;5;124m\"\u001b[39m\u001b[38;5;124mdelimiter\u001b[39m\u001b[38;5;124m\"\u001b[39m: \u001b[38;5;124m\"\u001b[39m\u001b[38;5;124m,\u001b[39m\u001b[38;5;124m\"\u001b[39m},\n\u001b[0;32m    947\u001b[0m )\n\u001b[0;32m    948\u001b[0m kwds\u001b[38;5;241m.\u001b[39mupdate(kwds_defaults)\n\u001b[1;32m--> 950\u001b[0m \u001b[38;5;28;01mreturn\u001b[39;00m _read(filepath_or_buffer, kwds)\n",
      "File \u001b[1;32m~\\anaconda3\\Lib\\site-packages\\pandas\\io\\parsers\\readers.py:605\u001b[0m, in \u001b[0;36m_read\u001b[1;34m(filepath_or_buffer, kwds)\u001b[0m\n\u001b[0;32m    602\u001b[0m _validate_names(kwds\u001b[38;5;241m.\u001b[39mget(\u001b[38;5;124m\"\u001b[39m\u001b[38;5;124mnames\u001b[39m\u001b[38;5;124m\"\u001b[39m, \u001b[38;5;28;01mNone\u001b[39;00m))\n\u001b[0;32m    604\u001b[0m \u001b[38;5;66;03m# Create the parser.\u001b[39;00m\n\u001b[1;32m--> 605\u001b[0m parser \u001b[38;5;241m=\u001b[39m TextFileReader(filepath_or_buffer, \u001b[38;5;241m*\u001b[39m\u001b[38;5;241m*\u001b[39mkwds)\n\u001b[0;32m    607\u001b[0m \u001b[38;5;28;01mif\u001b[39;00m chunksize \u001b[38;5;129;01mor\u001b[39;00m iterator:\n\u001b[0;32m    608\u001b[0m     \u001b[38;5;28;01mreturn\u001b[39;00m parser\n",
      "File \u001b[1;32m~\\anaconda3\\Lib\\site-packages\\pandas\\io\\parsers\\readers.py:1442\u001b[0m, in \u001b[0;36mTextFileReader.__init__\u001b[1;34m(self, f, engine, **kwds)\u001b[0m\n\u001b[0;32m   1439\u001b[0m     \u001b[38;5;28mself\u001b[39m\u001b[38;5;241m.\u001b[39moptions[\u001b[38;5;124m\"\u001b[39m\u001b[38;5;124mhas_index_names\u001b[39m\u001b[38;5;124m\"\u001b[39m] \u001b[38;5;241m=\u001b[39m kwds[\u001b[38;5;124m\"\u001b[39m\u001b[38;5;124mhas_index_names\u001b[39m\u001b[38;5;124m\"\u001b[39m]\n\u001b[0;32m   1441\u001b[0m \u001b[38;5;28mself\u001b[39m\u001b[38;5;241m.\u001b[39mhandles: IOHandles \u001b[38;5;241m|\u001b[39m \u001b[38;5;28;01mNone\u001b[39;00m \u001b[38;5;241m=\u001b[39m \u001b[38;5;28;01mNone\u001b[39;00m\n\u001b[1;32m-> 1442\u001b[0m \u001b[38;5;28mself\u001b[39m\u001b[38;5;241m.\u001b[39m_engine \u001b[38;5;241m=\u001b[39m \u001b[38;5;28mself\u001b[39m\u001b[38;5;241m.\u001b[39m_make_engine(f, \u001b[38;5;28mself\u001b[39m\u001b[38;5;241m.\u001b[39mengine)\n",
      "File \u001b[1;32m~\\anaconda3\\Lib\\site-packages\\pandas\\io\\parsers\\readers.py:1735\u001b[0m, in \u001b[0;36mTextFileReader._make_engine\u001b[1;34m(self, f, engine)\u001b[0m\n\u001b[0;32m   1733\u001b[0m     \u001b[38;5;28;01mif\u001b[39;00m \u001b[38;5;124m\"\u001b[39m\u001b[38;5;124mb\u001b[39m\u001b[38;5;124m\"\u001b[39m \u001b[38;5;129;01mnot\u001b[39;00m \u001b[38;5;129;01min\u001b[39;00m mode:\n\u001b[0;32m   1734\u001b[0m         mode \u001b[38;5;241m+\u001b[39m\u001b[38;5;241m=\u001b[39m \u001b[38;5;124m\"\u001b[39m\u001b[38;5;124mb\u001b[39m\u001b[38;5;124m\"\u001b[39m\n\u001b[1;32m-> 1735\u001b[0m \u001b[38;5;28mself\u001b[39m\u001b[38;5;241m.\u001b[39mhandles \u001b[38;5;241m=\u001b[39m get_handle(\n\u001b[0;32m   1736\u001b[0m     f,\n\u001b[0;32m   1737\u001b[0m     mode,\n\u001b[0;32m   1738\u001b[0m     encoding\u001b[38;5;241m=\u001b[39m\u001b[38;5;28mself\u001b[39m\u001b[38;5;241m.\u001b[39moptions\u001b[38;5;241m.\u001b[39mget(\u001b[38;5;124m\"\u001b[39m\u001b[38;5;124mencoding\u001b[39m\u001b[38;5;124m\"\u001b[39m, \u001b[38;5;28;01mNone\u001b[39;00m),\n\u001b[0;32m   1739\u001b[0m     compression\u001b[38;5;241m=\u001b[39m\u001b[38;5;28mself\u001b[39m\u001b[38;5;241m.\u001b[39moptions\u001b[38;5;241m.\u001b[39mget(\u001b[38;5;124m\"\u001b[39m\u001b[38;5;124mcompression\u001b[39m\u001b[38;5;124m\"\u001b[39m, \u001b[38;5;28;01mNone\u001b[39;00m),\n\u001b[0;32m   1740\u001b[0m     memory_map\u001b[38;5;241m=\u001b[39m\u001b[38;5;28mself\u001b[39m\u001b[38;5;241m.\u001b[39moptions\u001b[38;5;241m.\u001b[39mget(\u001b[38;5;124m\"\u001b[39m\u001b[38;5;124mmemory_map\u001b[39m\u001b[38;5;124m\"\u001b[39m, \u001b[38;5;28;01mFalse\u001b[39;00m),\n\u001b[0;32m   1741\u001b[0m     is_text\u001b[38;5;241m=\u001b[39mis_text,\n\u001b[0;32m   1742\u001b[0m     errors\u001b[38;5;241m=\u001b[39m\u001b[38;5;28mself\u001b[39m\u001b[38;5;241m.\u001b[39moptions\u001b[38;5;241m.\u001b[39mget(\u001b[38;5;124m\"\u001b[39m\u001b[38;5;124mencoding_errors\u001b[39m\u001b[38;5;124m\"\u001b[39m, \u001b[38;5;124m\"\u001b[39m\u001b[38;5;124mstrict\u001b[39m\u001b[38;5;124m\"\u001b[39m),\n\u001b[0;32m   1743\u001b[0m     storage_options\u001b[38;5;241m=\u001b[39m\u001b[38;5;28mself\u001b[39m\u001b[38;5;241m.\u001b[39moptions\u001b[38;5;241m.\u001b[39mget(\u001b[38;5;124m\"\u001b[39m\u001b[38;5;124mstorage_options\u001b[39m\u001b[38;5;124m\"\u001b[39m, \u001b[38;5;28;01mNone\u001b[39;00m),\n\u001b[0;32m   1744\u001b[0m )\n\u001b[0;32m   1745\u001b[0m \u001b[38;5;28;01massert\u001b[39;00m \u001b[38;5;28mself\u001b[39m\u001b[38;5;241m.\u001b[39mhandles \u001b[38;5;129;01mis\u001b[39;00m \u001b[38;5;129;01mnot\u001b[39;00m \u001b[38;5;28;01mNone\u001b[39;00m\n\u001b[0;32m   1746\u001b[0m f \u001b[38;5;241m=\u001b[39m \u001b[38;5;28mself\u001b[39m\u001b[38;5;241m.\u001b[39mhandles\u001b[38;5;241m.\u001b[39mhandle\n",
      "File \u001b[1;32m~\\anaconda3\\Lib\\site-packages\\pandas\\io\\common.py:856\u001b[0m, in \u001b[0;36mget_handle\u001b[1;34m(path_or_buf, mode, encoding, compression, memory_map, is_text, errors, storage_options)\u001b[0m\n\u001b[0;32m    851\u001b[0m \u001b[38;5;28;01melif\u001b[39;00m \u001b[38;5;28misinstance\u001b[39m(handle, \u001b[38;5;28mstr\u001b[39m):\n\u001b[0;32m    852\u001b[0m     \u001b[38;5;66;03m# Check whether the filename is to be opened in binary mode.\u001b[39;00m\n\u001b[0;32m    853\u001b[0m     \u001b[38;5;66;03m# Binary mode does not support 'encoding' and 'newline'.\u001b[39;00m\n\u001b[0;32m    854\u001b[0m     \u001b[38;5;28;01mif\u001b[39;00m ioargs\u001b[38;5;241m.\u001b[39mencoding \u001b[38;5;129;01mand\u001b[39;00m \u001b[38;5;124m\"\u001b[39m\u001b[38;5;124mb\u001b[39m\u001b[38;5;124m\"\u001b[39m \u001b[38;5;129;01mnot\u001b[39;00m \u001b[38;5;129;01min\u001b[39;00m ioargs\u001b[38;5;241m.\u001b[39mmode:\n\u001b[0;32m    855\u001b[0m         \u001b[38;5;66;03m# Encoding\u001b[39;00m\n\u001b[1;32m--> 856\u001b[0m         handle \u001b[38;5;241m=\u001b[39m \u001b[38;5;28mopen\u001b[39m(\n\u001b[0;32m    857\u001b[0m             handle,\n\u001b[0;32m    858\u001b[0m             ioargs\u001b[38;5;241m.\u001b[39mmode,\n\u001b[0;32m    859\u001b[0m             encoding\u001b[38;5;241m=\u001b[39mioargs\u001b[38;5;241m.\u001b[39mencoding,\n\u001b[0;32m    860\u001b[0m             errors\u001b[38;5;241m=\u001b[39merrors,\n\u001b[0;32m    861\u001b[0m             newline\u001b[38;5;241m=\u001b[39m\u001b[38;5;124m\"\u001b[39m\u001b[38;5;124m\"\u001b[39m,\n\u001b[0;32m    862\u001b[0m         )\n\u001b[0;32m    863\u001b[0m     \u001b[38;5;28;01melse\u001b[39;00m:\n\u001b[0;32m    864\u001b[0m         \u001b[38;5;66;03m# Binary mode\u001b[39;00m\n\u001b[0;32m    865\u001b[0m         handle \u001b[38;5;241m=\u001b[39m \u001b[38;5;28mopen\u001b[39m(handle, ioargs\u001b[38;5;241m.\u001b[39mmode)\n",
      "\u001b[1;31mFileNotFoundError\u001b[0m: [Errno 2] No such file or directory: '/kaggle/input/playground-series-s3e22/test.csv'"
     ]
    }
   ],
   "source": [
    "pd.DataFrame({\n",
    "    'id': samp['id']\n",
    "    , 'outcome': model_tune.predict(pipe.transform(samp))\n",
    "}).to_csv('submission.csv', index=False)"
   ]
  }
 ],
 "metadata": {
  "kernelspec": {
   "display_name": "Python 3 (ipykernel)",
   "language": "python",
   "name": "python3"
  },
  "language_info": {
   "codemirror_mode": {
    "name": "ipython",
    "version": 3
   },
   "file_extension": ".py",
   "mimetype": "text/x-python",
   "name": "python",
   "nbconvert_exporter": "python",
   "pygments_lexer": "ipython3",
   "version": "3.11.4"
  }
 },
 "nbformat": 4,
 "nbformat_minor": 4
}
